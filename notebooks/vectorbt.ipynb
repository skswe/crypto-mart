{
 "cells": [
  {
   "cell_type": "code",
   "execution_count": 1,
   "metadata": {},
   "outputs": [
    {
     "name": "stdout",
     "output_type": "stream",
     "text": [
      "/home/stefano/development/crypto-arb\n"
     ]
    }
   ],
   "source": [
    "%cd ..\n",
    "import unified_dm\n",
    "import logging\n",
    "logging.getLogger(\"unified_dm\").setLevel(\"ERROR\")\n",
    "from scripts.get_spreads import pull_spreads\n",
    "from vbt_backtest.core import run_strategy_batch_single_thread, run_strategy\n",
    "import pandas as pd\n",
    "import itertools\n",
    "from IPython.display import display"
   ]
  },
  {
   "cell_type": "code",
   "execution_count": 25,
   "metadata": {},
   "outputs": [
    {
     "name": "stderr",
     "output_type": "stream",
     "text": [
      "WARNING                 unified_dm.util                                log:83   Using cached value in call to pull_spreads(z_score_period=30, good_spreads=True, minimum_rows=180): 0de77877777a8be71f82b5ff11dfba6d\n"
     ]
    },
    {
     "name": "stdout",
     "output_type": "stream",
     "text": [
      "zscore:  1\n",
      "lookback_period:  30\n",
      "running backtest...\n",
      "computing stats...\n"
     ]
    },
    {
     "data": {
      "text/html": [
       "<div>\n",
       "<style scoped>\n",
       "    .dataframe tbody tr th:only-of-type {\n",
       "        vertical-align: middle;\n",
       "    }\n",
       "\n",
       "    .dataframe tbody tr th {\n",
       "        vertical-align: top;\n",
       "    }\n",
       "\n",
       "    .dataframe thead th {\n",
       "        text-align: right;\n",
       "    }\n",
       "</style>\n",
       "<table border=\"1\" class=\"dataframe\">\n",
       "  <thead>\n",
       "    <tr style=\"text-align: right;\">\n",
       "      <th></th>\n",
       "      <th>alias</th>\n",
       "      <th>volatility</th>\n",
       "      <th>missing_rows</th>\n",
       "      <th>total_rows</th>\n",
       "      <th>gaps</th>\n",
       "      <th>total_return</th>\n",
       "      <th>end_value</th>\n",
       "    </tr>\n",
       "  </thead>\n",
       "  <tbody>\n",
       "    <tr>\n",
       "      <th>1003</th>\n",
       "      <td>gateio_PERPETUAL_kucoin_PERPETUAL_DOGE</td>\n",
       "      <td>3.808032</td>\n",
       "      <td>0</td>\n",
       "      <td>406</td>\n",
       "      <td>0</td>\n",
       "      <td>-0.277817</td>\n",
       "      <td>108327.485372</td>\n",
       "    </tr>\n",
       "    <tr>\n",
       "      <th>977</th>\n",
       "      <td>gateio_PERPETUAL_kucoin_PERPETUAL_BTC</td>\n",
       "      <td>1.880659</td>\n",
       "      <td>0</td>\n",
       "      <td>711</td>\n",
       "      <td>0</td>\n",
       "      <td>-0.134306</td>\n",
       "      <td>129854.142180</td>\n",
       "    </tr>\n",
       "    <tr>\n",
       "      <th>438</th>\n",
       "      <td>bybit_PERPETUAL_gateio_PERPETUAL_BTC</td>\n",
       "      <td>1.801099</td>\n",
       "      <td>0</td>\n",
       "      <td>716</td>\n",
       "      <td>0</td>\n",
       "      <td>-0.121303</td>\n",
       "      <td>131804.510166</td>\n",
       "    </tr>\n",
       "  </tbody>\n",
       "</table>\n",
       "</div>"
      ],
      "text/plain": [
       "                                       alias  volatility  missing_rows  \\\n",
       "1003  gateio_PERPETUAL_kucoin_PERPETUAL_DOGE    3.808032             0   \n",
       "977    gateio_PERPETUAL_kucoin_PERPETUAL_BTC    1.880659             0   \n",
       "438     bybit_PERPETUAL_gateio_PERPETUAL_BTC    1.801099             0   \n",
       "\n",
       "      total_rows  gaps  total_return      end_value  \n",
       "1003         406     0     -0.277817  108327.485372  \n",
       "977          711     0     -0.134306  129854.142180  \n",
       "438          716     0     -0.121303  131804.510166  "
      ]
     },
     "metadata": {},
     "output_type": "display_data"
    },
    {
     "data": {
      "text/html": [
       "<div>\n",
       "<style scoped>\n",
       "    .dataframe tbody tr th:only-of-type {\n",
       "        vertical-align: middle;\n",
       "    }\n",
       "\n",
       "    .dataframe tbody tr th {\n",
       "        vertical-align: top;\n",
       "    }\n",
       "\n",
       "    .dataframe thead th {\n",
       "        text-align: right;\n",
       "    }\n",
       "</style>\n",
       "<table border=\"1\" class=\"dataframe\">\n",
       "  <thead>\n",
       "    <tr style=\"text-align: right;\">\n",
       "      <th></th>\n",
       "      <th>alias</th>\n",
       "      <th>volatility</th>\n",
       "      <th>missing_rows</th>\n",
       "      <th>total_rows</th>\n",
       "      <th>gaps</th>\n",
       "      <th>total_return</th>\n",
       "      <th>end_value</th>\n",
       "    </tr>\n",
       "  </thead>\n",
       "  <tbody>\n",
       "    <tr>\n",
       "      <th>735</th>\n",
       "      <td>ftx_PERPETUAL_gateio_PERPETUAL_SXP</td>\n",
       "      <td>135.986275</td>\n",
       "      <td>0</td>\n",
       "      <td>578</td>\n",
       "      <td>0</td>\n",
       "      <td>3.682981</td>\n",
       "      <td>702447.097935</td>\n",
       "    </tr>\n",
       "    <tr>\n",
       "      <th>250</th>\n",
       "      <td>binance_PERPETUAL_gateio_PERPETUAL_SXP</td>\n",
       "      <td>135.857764</td>\n",
       "      <td>0</td>\n",
       "      <td>578</td>\n",
       "      <td>0</td>\n",
       "      <td>3.810797</td>\n",
       "      <td>721619.583721</td>\n",
       "    </tr>\n",
       "    <tr>\n",
       "      <th>822</th>\n",
       "      <td>okex_PERPETUAL_gateio_PERPETUAL_ANT</td>\n",
       "      <td>228.067817</td>\n",
       "      <td>0</td>\n",
       "      <td>566</td>\n",
       "      <td>0</td>\n",
       "      <td>4.729019</td>\n",
       "      <td>859352.806877</td>\n",
       "    </tr>\n",
       "  </tbody>\n",
       "</table>\n",
       "</div>"
      ],
      "text/plain": [
       "                                      alias  volatility  missing_rows  \\\n",
       "735      ftx_PERPETUAL_gateio_PERPETUAL_SXP  135.986275             0   \n",
       "250  binance_PERPETUAL_gateio_PERPETUAL_SXP  135.857764             0   \n",
       "822     okex_PERPETUAL_gateio_PERPETUAL_ANT  228.067817             0   \n",
       "\n",
       "     total_rows  gaps  total_return      end_value  \n",
       "735         578     0      3.682981  702447.097935  \n",
       "250         578     0      3.810797  721619.583721  \n",
       "822         566     0      4.729019  859352.806877  "
      ]
     },
     "metadata": {},
     "output_type": "display_data"
    },
    {
     "name": "stdout",
     "output_type": "stream",
     "text": [
      "mean total return:  0.1440204952833492\n",
      "median total return:  0.03557285728769387\n",
      "mean end value:  171603.07429250237\n",
      "median end value:  155335.92859315407\n"
     ]
    }
   ],
   "source": [
    "zscores = [1]\n",
    "lookback_periods = [30]\n",
    "results = []\n",
    "for zscore, lookback_period in itertools.product(zscores, lookback_periods):\n",
    "\n",
    "    def portfolio_stats(portfolios: pd.Series) -> pd.Series:\n",
    "        return portfolios.apply(lambda s: pd.Series({\"total_return\": s.total_return(), \"end_value\": s.final_value()}))\n",
    "\n",
    "    def show_details(index):\n",
    "        from vbt_backtest.core import plot_spread_and_zscore\n",
    "\n",
    "        feed = spreads.iloc[index].obj\n",
    "        portfolio = portfolios.iloc[index]\n",
    "\n",
    "        display(portfolio.plot_cum_returns())\n",
    "        display(portfolio.stats())\n",
    "        display(plot_spread_and_zscore(feed, portfolio))\n",
    "        display(portfolio.trades.records_readable.sort_values(\"Entry Timestamp\").head(10))\n",
    "        display(portfolio.orders.records_readable.sort_values(\"Timestamp\").head(20))\n",
    "        display(feed.underlyings)\n",
    "\n",
    "    print(\"zscore: \", zscore)\n",
    "    print(\"lookback_period: \", lookback_period)\n",
    "    spreads = pull_spreads(z_score_period=lookback_period, refresh_cache=False)\n",
    "    print(\"running backtest...\")\n",
    "    portfolios = run_strategy_batch_single_thread(\n",
    "        spreads, initial_cash=150000, trade_value=50000, z_score_thresh=zscore\n",
    "    )\n",
    "    print(\"computing stats...\")\n",
    "    stats = portfolio_stats(portfolios)\n",
    "    res = pd.concat([spreads, stats], axis=1)\n",
    "    res = res[[\"alias\", \"volatility\", \"missing_rows\", \"total_rows\", \"gaps\"] + stats.columns.to_list()].sort_values(\n",
    "        \"total_return\"\n",
    "    )\n",
    "    display(res.head(3), res.tail(3))\n",
    "    print(\"mean total return: \", res.total_return.mean())\n",
    "    print(\"median total return: \", res.total_return.median())\n",
    "    print(\"mean end value: \", res.end_value.mean())\n",
    "    print(\"median end value: \", res.end_value.median())\n",
    "    results.append(\n",
    "        {\n",
    "            \"zscore\": zscore,\n",
    "            \"lookback_period\": lookback_period,\n",
    "            \"mean_total_return\": res.total_return.mean(),\n",
    "            \"median_total_return\": res.total_return.median(),\n",
    "            \"mean_end_value\": res.end_value.mean(),\n",
    "            \"median_end_value\": res.end_value.median(),\n",
    "        }\n",
    "    )\n"
   ]
  },
  {
   "cell_type": "code",
   "execution_count": 26,
   "metadata": {},
   "outputs": [],
   "source": [
    "def show_details(index):\n",
    "    from vbt_backtest.core import plot_spread_and_zscore\n",
    "\n",
    "    feed = spreads.iloc[index].obj\n",
    "    portfolio = portfolios.iloc[index]\n",
    "\n",
    "    display(portfolio.plot_cum_returns())\n",
    "    display(portfolio.stats())\n",
    "    display(plot_spread_and_zscore(feed.set_index(\"open_time\", drop=False), portfolio))\n",
    "    display(portfolio.trades.records_readable.sort_values(\"Entry Timestamp\").head(10))\n",
    "    display(portfolio.orders.records_readable.sort_values(\"Timestamp\").head(20))\n",
    "    display(feed.underlyings)"
   ]
  },
  {
   "cell_type": "code",
   "execution_count": 32,
   "metadata": {},
   "outputs": [
    {
     "data": {
      "text/plain": [
       "open_time    2021-04-19 00:00:00\n",
       "open                    0.000413\n",
       "high                    -0.00238\n",
       "low                    -0.000149\n",
       "close                  -0.000315\n",
       "volume                 2136811.5\n",
       "returns                -0.402034\n",
       "zscore                 -0.258082\n",
       "Name: 80, dtype: object"
      ]
     },
     "execution_count": 32,
     "metadata": {},
     "output_type": "execute_result"
    }
   ],
   "source": [
    "spreads.iloc[1003].obj.iloc[80]"
   ]
  },
  {
   "cell_type": "code",
   "execution_count": 29,
   "metadata": {},
   "outputs": [
    {
     "data": {
      "application/vnd.jupyter.widget-view+json": {
       "model_id": "98454baef5344fc5839ed09686b183a0",
       "version_major": 2,
       "version_minor": 0
      },
      "text/plain": [
       "FigureWidget({\n",
       "    'data': [{'line': {'color': '#7f7f7f'},\n",
       "              'name': 'Benchmark',\n",
       "              's…"
      ]
     },
     "metadata": {},
     "output_type": "display_data"
    },
    {
     "data": {
      "text/plain": [
       "Start                               2021-01-29 00:00:00\n",
       "End                                 2022-03-10 00:00:00\n",
       "Period                                406 days 00:00:00\n",
       "Start Value                                    150000.0\n",
       "End Value                                 108327.485372\n",
       "Total Return [%]                             -27.781676\n",
       "Benchmark Return [%]                         156.262301\n",
       "Max Gross Exposure [%]                       506.468427\n",
       "Total Fees Paid                             12113.83001\n",
       "Max Drawdown [%]                              28.173334\n",
       "Max Drawdown Duration                 326 days 00:00:00\n",
       "Total Trades                                        141\n",
       "Total Closed Trades                                 139\n",
       "Total Open Trades                                     2\n",
       "Open Trade PnL                               -45.716199\n",
       "Win Rate [%]                                  48.201439\n",
       "Best Trade [%]                               356.675667\n",
       "Worst Trade [%]                             -477.773515\n",
       "Avg Winning Trade [%]                         10.504901\n",
       "Avg Losing Trade [%]                         -21.745687\n",
       "Avg Winning Trade Duration    1 days 23:38:30.447761194\n",
       "Avg Losing Trade Duration               2 days 01:40:00\n",
       "Profit Factor                                  0.914231\n",
       "Expectancy                                   -299.47337\n",
       "Sharpe Ratio                                  -1.020966\n",
       "Calmar Ratio                                  -0.900445\n",
       "Omega Ratio                                    0.161117\n",
       "Sortino Ratio                                 -1.023092\n",
       "Name: group, dtype: object"
      ]
     },
     "metadata": {},
     "output_type": "display_data"
    },
    {
     "ename": "ValueError",
     "evalue": "cannot reindex from a duplicate axis",
     "output_type": "error",
     "traceback": [
      "\u001b[0;31m---------------------------------------------------------------------------\u001b[0m",
      "\u001b[0;31mValueError\u001b[0m                                Traceback (most recent call last)",
      "\u001b[0;32m/tmp/ipykernel_6316/3166898923.py\u001b[0m in \u001b[0;36m<module>\u001b[0;34m\u001b[0m\n\u001b[0;32m----> 1\u001b[0;31m \u001b[0mshow_details\u001b[0m\u001b[0;34m(\u001b[0m\u001b[0;36m1003\u001b[0m\u001b[0;34m)\u001b[0m\u001b[0;34m\u001b[0m\u001b[0;34m\u001b[0m\u001b[0m\n\u001b[0m",
      "\u001b[0;32m/tmp/ipykernel_6316/777144224.py\u001b[0m in \u001b[0;36mshow_details\u001b[0;34m(index)\u001b[0m\n\u001b[1;32m      7\u001b[0m     \u001b[0mdisplay\u001b[0m\u001b[0;34m(\u001b[0m\u001b[0mportfolio\u001b[0m\u001b[0;34m.\u001b[0m\u001b[0mplot_cum_returns\u001b[0m\u001b[0;34m(\u001b[0m\u001b[0;34m)\u001b[0m\u001b[0;34m)\u001b[0m\u001b[0;34m\u001b[0m\u001b[0;34m\u001b[0m\u001b[0m\n\u001b[1;32m      8\u001b[0m     \u001b[0mdisplay\u001b[0m\u001b[0;34m(\u001b[0m\u001b[0mportfolio\u001b[0m\u001b[0;34m.\u001b[0m\u001b[0mstats\u001b[0m\u001b[0;34m(\u001b[0m\u001b[0;34m)\u001b[0m\u001b[0;34m)\u001b[0m\u001b[0;34m\u001b[0m\u001b[0;34m\u001b[0m\u001b[0m\n\u001b[0;32m----> 9\u001b[0;31m     \u001b[0mdisplay\u001b[0m\u001b[0;34m(\u001b[0m\u001b[0mplot_spread_and_zscore\u001b[0m\u001b[0;34m(\u001b[0m\u001b[0mfeed\u001b[0m\u001b[0;34m.\u001b[0m\u001b[0mset_index\u001b[0m\u001b[0;34m(\u001b[0m\u001b[0;34m\"open_time\"\u001b[0m\u001b[0;34m,\u001b[0m \u001b[0mdrop\u001b[0m\u001b[0;34m=\u001b[0m\u001b[0;32mFalse\u001b[0m\u001b[0;34m)\u001b[0m\u001b[0;34m,\u001b[0m \u001b[0mportfolio\u001b[0m\u001b[0;34m)\u001b[0m\u001b[0;34m)\u001b[0m\u001b[0;34m\u001b[0m\u001b[0;34m\u001b[0m\u001b[0m\n\u001b[0m\u001b[1;32m     10\u001b[0m     \u001b[0mdisplay\u001b[0m\u001b[0;34m(\u001b[0m\u001b[0mportfolio\u001b[0m\u001b[0;34m.\u001b[0m\u001b[0mtrades\u001b[0m\u001b[0;34m.\u001b[0m\u001b[0mrecords_readable\u001b[0m\u001b[0;34m.\u001b[0m\u001b[0msort_values\u001b[0m\u001b[0;34m(\u001b[0m\u001b[0;34m\"Entry Timestamp\"\u001b[0m\u001b[0;34m)\u001b[0m\u001b[0;34m.\u001b[0m\u001b[0mhead\u001b[0m\u001b[0;34m(\u001b[0m\u001b[0;36m10\u001b[0m\u001b[0;34m)\u001b[0m\u001b[0;34m)\u001b[0m\u001b[0;34m\u001b[0m\u001b[0;34m\u001b[0m\u001b[0m\n\u001b[1;32m     11\u001b[0m     \u001b[0mdisplay\u001b[0m\u001b[0;34m(\u001b[0m\u001b[0mportfolio\u001b[0m\u001b[0;34m.\u001b[0m\u001b[0morders\u001b[0m\u001b[0;34m.\u001b[0m\u001b[0mrecords_readable\u001b[0m\u001b[0;34m.\u001b[0m\u001b[0msort_values\u001b[0m\u001b[0;34m(\u001b[0m\u001b[0;34m\"Timestamp\"\u001b[0m\u001b[0;34m)\u001b[0m\u001b[0;34m.\u001b[0m\u001b[0mhead\u001b[0m\u001b[0;34m(\u001b[0m\u001b[0;36m20\u001b[0m\u001b[0;34m)\u001b[0m\u001b[0;34m)\u001b[0m\u001b[0;34m\u001b[0m\u001b[0;34m\u001b[0m\u001b[0m\n",
      "\u001b[0;32m~/development/crypto-arb/vbt_backtest/core.py\u001b[0m in \u001b[0;36mplot_spread_and_zscore\u001b[0;34m(feed, portfolio)\u001b[0m\n\u001b[1;32m    129\u001b[0m \u001b[0;34m\u001b[0m\u001b[0m\n\u001b[1;32m    130\u001b[0m     long_entries = (\n\u001b[0;32m--> 131\u001b[0;31m         \u001b[0mpd\u001b[0m\u001b[0;34m.\u001b[0m\u001b[0mSeries\u001b[0m\u001b[0;34m(\u001b[0m\u001b[0;32mTrue\u001b[0m\u001b[0;34m,\u001b[0m \u001b[0mindex\u001b[0m\u001b[0;34m=\u001b[0m\u001b[0mlong_trades\u001b[0m\u001b[0;34m.\u001b[0m\u001b[0mentry_idx\u001b[0m\u001b[0;34m)\u001b[0m\u001b[0;34m.\u001b[0m\u001b[0mreindex\u001b[0m\u001b[0;34m(\u001b[0m\u001b[0mrange\u001b[0m\u001b[0;34m(\u001b[0m\u001b[0mlen\u001b[0m\u001b[0;34m(\u001b[0m\u001b[0mfeed\u001b[0m\u001b[0;34m)\u001b[0m\u001b[0;34m)\u001b[0m\u001b[0;34m,\u001b[0m \u001b[0mfill_value\u001b[0m\u001b[0;34m=\u001b[0m\u001b[0;32mFalse\u001b[0m\u001b[0;34m)\u001b[0m\u001b[0;34m.\u001b[0m\u001b[0mset_axis\u001b[0m\u001b[0;34m(\u001b[0m\u001b[0mfeed\u001b[0m\u001b[0;34m.\u001b[0m\u001b[0mindex\u001b[0m\u001b[0;34m)\u001b[0m\u001b[0;34m\u001b[0m\u001b[0;34m\u001b[0m\u001b[0m\n\u001b[0m\u001b[1;32m    132\u001b[0m     )\n\u001b[1;32m    133\u001b[0m     long_exits = (\n",
      "\u001b[0;32m~/.local/lib/python3.8/site-packages/pandas/core/series.py\u001b[0m in \u001b[0;36mreindex\u001b[0;34m(self, index, **kwargs)\u001b[0m\n\u001b[1;32m   4343\u001b[0m     )\n\u001b[1;32m   4344\u001b[0m     \u001b[0;32mdef\u001b[0m \u001b[0mreindex\u001b[0m\u001b[0;34m(\u001b[0m\u001b[0mself\u001b[0m\u001b[0;34m,\u001b[0m \u001b[0mindex\u001b[0m\u001b[0;34m=\u001b[0m\u001b[0;32mNone\u001b[0m\u001b[0;34m,\u001b[0m \u001b[0;34m**\u001b[0m\u001b[0mkwargs\u001b[0m\u001b[0;34m)\u001b[0m\u001b[0;34m:\u001b[0m\u001b[0;34m\u001b[0m\u001b[0;34m\u001b[0m\u001b[0m\n\u001b[0;32m-> 4345\u001b[0;31m         \u001b[0;32mreturn\u001b[0m \u001b[0msuper\u001b[0m\u001b[0;34m(\u001b[0m\u001b[0;34m)\u001b[0m\u001b[0;34m.\u001b[0m\u001b[0mreindex\u001b[0m\u001b[0;34m(\u001b[0m\u001b[0mindex\u001b[0m\u001b[0;34m=\u001b[0m\u001b[0mindex\u001b[0m\u001b[0;34m,\u001b[0m \u001b[0;34m**\u001b[0m\u001b[0mkwargs\u001b[0m\u001b[0;34m)\u001b[0m\u001b[0;34m\u001b[0m\u001b[0;34m\u001b[0m\u001b[0m\n\u001b[0m\u001b[1;32m   4346\u001b[0m \u001b[0;34m\u001b[0m\u001b[0m\n\u001b[1;32m   4347\u001b[0m     def drop(\n",
      "\u001b[0;32m~/.local/lib/python3.8/site-packages/pandas/core/generic.py\u001b[0m in \u001b[0;36mreindex\u001b[0;34m(self, *args, **kwargs)\u001b[0m\n\u001b[1;32m   4809\u001b[0m \u001b[0;34m\u001b[0m\u001b[0m\n\u001b[1;32m   4810\u001b[0m         \u001b[0;31m# perform the reindex on the axes\u001b[0m\u001b[0;34m\u001b[0m\u001b[0;34m\u001b[0m\u001b[0;34m\u001b[0m\u001b[0m\n\u001b[0;32m-> 4811\u001b[0;31m         return self._reindex_axes(\n\u001b[0m\u001b[1;32m   4812\u001b[0m             \u001b[0maxes\u001b[0m\u001b[0;34m,\u001b[0m \u001b[0mlevel\u001b[0m\u001b[0;34m,\u001b[0m \u001b[0mlimit\u001b[0m\u001b[0;34m,\u001b[0m \u001b[0mtolerance\u001b[0m\u001b[0;34m,\u001b[0m \u001b[0mmethod\u001b[0m\u001b[0;34m,\u001b[0m \u001b[0mfill_value\u001b[0m\u001b[0;34m,\u001b[0m \u001b[0mcopy\u001b[0m\u001b[0;34m\u001b[0m\u001b[0;34m\u001b[0m\u001b[0m\n\u001b[1;32m   4813\u001b[0m         ).__finalize__(self, method=\"reindex\")\n",
      "\u001b[0;32m~/.local/lib/python3.8/site-packages/pandas/core/generic.py\u001b[0m in \u001b[0;36m_reindex_axes\u001b[0;34m(self, axes, level, limit, tolerance, method, fill_value, copy)\u001b[0m\n\u001b[1;32m   4830\u001b[0m \u001b[0;34m\u001b[0m\u001b[0m\n\u001b[1;32m   4831\u001b[0m             \u001b[0maxis\u001b[0m \u001b[0;34m=\u001b[0m \u001b[0mself\u001b[0m\u001b[0;34m.\u001b[0m\u001b[0m_get_axis_number\u001b[0m\u001b[0;34m(\u001b[0m\u001b[0ma\u001b[0m\u001b[0;34m)\u001b[0m\u001b[0;34m\u001b[0m\u001b[0;34m\u001b[0m\u001b[0m\n\u001b[0;32m-> 4832\u001b[0;31m             obj = obj._reindex_with_indexers(\n\u001b[0m\u001b[1;32m   4833\u001b[0m                 \u001b[0;34m{\u001b[0m\u001b[0maxis\u001b[0m\u001b[0;34m:\u001b[0m \u001b[0;34m[\u001b[0m\u001b[0mnew_index\u001b[0m\u001b[0;34m,\u001b[0m \u001b[0mindexer\u001b[0m\u001b[0;34m]\u001b[0m\u001b[0;34m}\u001b[0m\u001b[0;34m,\u001b[0m\u001b[0;34m\u001b[0m\u001b[0;34m\u001b[0m\u001b[0m\n\u001b[1;32m   4834\u001b[0m                 \u001b[0mfill_value\u001b[0m\u001b[0;34m=\u001b[0m\u001b[0mfill_value\u001b[0m\u001b[0;34m,\u001b[0m\u001b[0;34m\u001b[0m\u001b[0;34m\u001b[0m\u001b[0m\n",
      "\u001b[0;32m~/.local/lib/python3.8/site-packages/pandas/core/generic.py\u001b[0m in \u001b[0;36m_reindex_with_indexers\u001b[0;34m(self, reindexers, fill_value, copy, allow_dups)\u001b[0m\n\u001b[1;32m   4875\u001b[0m \u001b[0;34m\u001b[0m\u001b[0m\n\u001b[1;32m   4876\u001b[0m             \u001b[0;31m# TODO: speed up on homogeneous DataFrame objects\u001b[0m\u001b[0;34m\u001b[0m\u001b[0;34m\u001b[0m\u001b[0;34m\u001b[0m\u001b[0m\n\u001b[0;32m-> 4877\u001b[0;31m             new_data = new_data.reindex_indexer(\n\u001b[0m\u001b[1;32m   4878\u001b[0m                 \u001b[0mindex\u001b[0m\u001b[0;34m,\u001b[0m\u001b[0;34m\u001b[0m\u001b[0;34m\u001b[0m\u001b[0m\n\u001b[1;32m   4879\u001b[0m                 \u001b[0mindexer\u001b[0m\u001b[0;34m,\u001b[0m\u001b[0;34m\u001b[0m\u001b[0;34m\u001b[0m\u001b[0m\n",
      "\u001b[0;32m~/.local/lib/python3.8/site-packages/pandas/core/internals/managers.py\u001b[0m in \u001b[0;36mreindex_indexer\u001b[0;34m(self, new_axis, indexer, axis, fill_value, allow_dups, copy, consolidate, only_slice)\u001b[0m\n\u001b[1;32m   1299\u001b[0m         \u001b[0;31m# some axes don't allow reindexing with dups\u001b[0m\u001b[0;34m\u001b[0m\u001b[0;34m\u001b[0m\u001b[0;34m\u001b[0m\u001b[0m\n\u001b[1;32m   1300\u001b[0m         \u001b[0;32mif\u001b[0m \u001b[0;32mnot\u001b[0m \u001b[0mallow_dups\u001b[0m\u001b[0;34m:\u001b[0m\u001b[0;34m\u001b[0m\u001b[0;34m\u001b[0m\u001b[0m\n\u001b[0;32m-> 1301\u001b[0;31m             \u001b[0mself\u001b[0m\u001b[0;34m.\u001b[0m\u001b[0maxes\u001b[0m\u001b[0;34m[\u001b[0m\u001b[0maxis\u001b[0m\u001b[0;34m]\u001b[0m\u001b[0;34m.\u001b[0m\u001b[0m_can_reindex\u001b[0m\u001b[0;34m(\u001b[0m\u001b[0mindexer\u001b[0m\u001b[0;34m)\u001b[0m\u001b[0;34m\u001b[0m\u001b[0;34m\u001b[0m\u001b[0m\n\u001b[0m\u001b[1;32m   1302\u001b[0m \u001b[0;34m\u001b[0m\u001b[0m\n\u001b[1;32m   1303\u001b[0m         \u001b[0;32mif\u001b[0m \u001b[0maxis\u001b[0m \u001b[0;34m>=\u001b[0m \u001b[0mself\u001b[0m\u001b[0;34m.\u001b[0m\u001b[0mndim\u001b[0m\u001b[0;34m:\u001b[0m\u001b[0;34m\u001b[0m\u001b[0;34m\u001b[0m\u001b[0m\n",
      "\u001b[0;32m~/.local/lib/python3.8/site-packages/pandas/core/indexes/base.py\u001b[0m in \u001b[0;36m_can_reindex\u001b[0;34m(self, indexer)\u001b[0m\n\u001b[1;32m   3474\u001b[0m         \u001b[0;31m# trying to reindex on an axis with duplicates\u001b[0m\u001b[0;34m\u001b[0m\u001b[0;34m\u001b[0m\u001b[0;34m\u001b[0m\u001b[0m\n\u001b[1;32m   3475\u001b[0m         \u001b[0;32mif\u001b[0m \u001b[0;32mnot\u001b[0m \u001b[0mself\u001b[0m\u001b[0;34m.\u001b[0m\u001b[0m_index_as_unique\u001b[0m \u001b[0;32mand\u001b[0m \u001b[0mlen\u001b[0m\u001b[0;34m(\u001b[0m\u001b[0mindexer\u001b[0m\u001b[0;34m)\u001b[0m\u001b[0;34m:\u001b[0m\u001b[0;34m\u001b[0m\u001b[0;34m\u001b[0m\u001b[0m\n\u001b[0;32m-> 3476\u001b[0;31m             \u001b[0;32mraise\u001b[0m \u001b[0mValueError\u001b[0m\u001b[0;34m(\u001b[0m\u001b[0;34m\"cannot reindex from a duplicate axis\"\u001b[0m\u001b[0;34m)\u001b[0m\u001b[0;34m\u001b[0m\u001b[0;34m\u001b[0m\u001b[0m\n\u001b[0m\u001b[1;32m   3477\u001b[0m \u001b[0;34m\u001b[0m\u001b[0m\n\u001b[1;32m   3478\u001b[0m     \u001b[0;32mdef\u001b[0m \u001b[0mreindex\u001b[0m\u001b[0;34m(\u001b[0m\u001b[0mself\u001b[0m\u001b[0;34m,\u001b[0m \u001b[0mtarget\u001b[0m\u001b[0;34m,\u001b[0m \u001b[0mmethod\u001b[0m\u001b[0;34m=\u001b[0m\u001b[0;32mNone\u001b[0m\u001b[0;34m,\u001b[0m \u001b[0mlevel\u001b[0m\u001b[0;34m=\u001b[0m\u001b[0;32mNone\u001b[0m\u001b[0;34m,\u001b[0m \u001b[0mlimit\u001b[0m\u001b[0;34m=\u001b[0m\u001b[0;32mNone\u001b[0m\u001b[0;34m,\u001b[0m \u001b[0mtolerance\u001b[0m\u001b[0;34m=\u001b[0m\u001b[0;32mNone\u001b[0m\u001b[0;34m)\u001b[0m\u001b[0;34m:\u001b[0m\u001b[0;34m\u001b[0m\u001b[0;34m\u001b[0m\u001b[0m\n",
      "\u001b[0;31mValueError\u001b[0m: cannot reindex from a duplicate axis"
     ]
    }
   ],
   "source": [
    "show_details(1003)"
   ]
  }
 ],
 "metadata": {
  "interpreter": {
   "hash": "31f2aee4e71d21fbe5cf8b01ff0e069b9275f58929596ceb00d14d90e3e16cd6"
  },
  "kernelspec": {
   "display_name": "Python 3.8.5 64-bit",
   "language": "python",
   "name": "python3"
  },
  "language_info": {
   "codemirror_mode": {
    "name": "ipython",
    "version": 3
   },
   "file_extension": ".py",
   "mimetype": "text/x-python",
   "name": "python",
   "nbconvert_exporter": "python",
   "pygments_lexer": "ipython3",
   "version": "3.8.10"
  },
  "orig_nbformat": 4
 },
 "nbformat": 4,
 "nbformat_minor": 2
}
